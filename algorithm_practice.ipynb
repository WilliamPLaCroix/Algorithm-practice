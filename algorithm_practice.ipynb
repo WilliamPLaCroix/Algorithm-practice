{
 "cells": [
  {
   "cell_type": "code",
   "execution_count": 6,
   "metadata": {},
   "outputs": [],
   "source": [
    "from random import randint\n",
    "import numpy as np"
   ]
  },
  {
   "cell_type": "code",
   "execution_count": 2,
   "metadata": {},
   "outputs": [
    {
     "name": "stdout",
     "output_type": "stream",
     "text": [
      "initial matrix:\n",
      " [[35 25 30 76 71 52]\n",
      " [80 96 52 79 35 54]\n",
      " [91 14 87 87 95 17]\n",
      " [64 36 82 69 97  8]\n",
      " [23 89 58 97  6 20]\n",
      " [91 10 81 75 32  5]]\n",
      "final matrix:\n",
      " [[91 71 81 30 10 52]\n",
      " [80 96 97 52 89 54]\n",
      " [91 97 87 82 14 17]\n",
      " [64 95 87 69 36  8]\n",
      " [23 35 79 58  6 20]\n",
      " [35 25 76 75 32  5]]\n",
      "791\n"
     ]
    }
   ],
   "source": [
    "\"\"\"\n",
    "Maximizing top-left quadrant\n",
    "\"\"\"\n",
    "\n",
    "def yeet(n: int):\n",
    "    matrix = np.random.randint(low=0, high=99, size=(2*n, 2*n))\n",
    "\n",
    "    print(\"initial matrix:\\n\", matrix)\n",
    "    def horizontal_flip(i: int) -> None:\n",
    "        matrix[i] = matrix[i][::-1]\n",
    "\n",
    "    def vertical_flip(j: int) -> None:\n",
    "        for i in range(n):\n",
    "            matrix[i][j], matrix[-(i+1)][j] = matrix[-(i+1)][j], matrix[i][j]\n",
    "\n",
    "    for i in range(n):\n",
    "        for j in range(n):\n",
    "            # top right quadrant\n",
    "            if matrix[i][j] < matrix[i][-(j+1)]:\n",
    "                for k in range(n):\n",
    "                    if k != j:\n",
    "                        vertical_flip(k)\n",
    "                horizontal_flip(i)\n",
    "                for k in range(n):\n",
    "                    if k != j:\n",
    "                        vertical_flip(k)\n",
    "            # bottom left quadrant\n",
    "            if matrix[i][j] < matrix[-(i+1)][j]:\n",
    "                for k in range(n):\n",
    "                    if k != i:\n",
    "                        horizontal_flip(k)\n",
    "                vertical_flip(j)\n",
    "                for k in range(n):\n",
    "                    if k != i:\n",
    "                        horizontal_flip(k)\n",
    "            # bottom right quadrant\n",
    "            if matrix[i][j] < matrix[-(i+1)][-(j+1)]:\n",
    "                vertical_flip(j)\n",
    "                horizontal_flip(-(i+1))\n",
    "                vertical_flip(j)\n",
    "                horizontal_flip(-(i+1))\n",
    "    print(\"final matrix:\\n\", matrix)\n",
    "    sum = 0\n",
    "    for i in range(n):\n",
    "        for j in range(n):\n",
    "            sum += matrix[i][j]\n",
    "    return sum\n",
    "            \n",
    "print(yeet(3))"
   ]
  },
  {
   "cell_type": "code",
   "execution_count": 27,
   "metadata": {},
   "outputs": [
    {
     "name": "stdout",
     "output_type": "stream",
     "text": [
      "Initial sequence:\n",
      " [14, 30, 47, 21, 53, 77, 72, 25, 76, 62]\n",
      "Final sequence:\n",
      " [14, 21, 25, 30, 47, 53, 62, 72, 76, 77]\n"
     ]
    }
   ],
   "source": [
    "\"\"\"\n",
    "Insertion Sort (increasing)\n",
    "\"\"\"\n",
    "def insertion_sort(sequence: list) -> list:\n",
    "    print(\"Initial sequence:\\n\", sequence)\n",
    "    # do work\n",
    "    for i in range(1, len(sequence)):\n",
    "        key = sequence[i]\n",
    "        j = i - 1\n",
    "        while j >= 0 and sequence[j] > key:\n",
    "            sequence[j+1] = sequence[j]\n",
    "            j -= 1\n",
    "        sequence[j+1] = key\n",
    "    return print(\"Final sequence:\\n\", sequence)\n",
    "\n",
    "insertion_sort([randint(0, 100) for _ in range(10)])"
   ]
  },
  {
   "cell_type": "code",
   "execution_count": 69,
   "metadata": {},
   "outputs": [
    {
     "name": "stdout",
     "output_type": "stream",
     "text": [
      "Initial sequence:\n",
      " [79, 73, 88, 3, 34, 41, 55, 62, 14, 100]\n",
      "Final sequence:\n",
      " [100, 88, 79, 73, 62, 55, 41, 34, 14, 3]\n"
     ]
    }
   ],
   "source": [
    "\"\"\"\n",
    "Insertion Sort (decreasing)\n",
    "\"\"\"\n",
    "def insertion_sort(sequence: list) -> list:\n",
    "    print(\"Initial sequence:\\n\", sequence)\n",
    "    # do work\n",
    "    for i in range(1, len(sequence)):\n",
    "        key = sequence[i]\n",
    "        j = i - 1\n",
    "        while j >= 0 and sequence[j] < key:\n",
    "            sequence[j+1] = sequence[j]\n",
    "            j -= 1\n",
    "        sequence[j+1] = key\n",
    "    return print(\"Final sequence:\\n\", sequence)\n",
    "\n",
    "insertion_sort([randint(0, 100) for _ in range(10)])"
   ]
  }
 ],
 "metadata": {
  "kernelspec": {
   "display_name": "Python 3",
   "language": "python",
   "name": "python3"
  },
  "language_info": {
   "codemirror_mode": {
    "name": "ipython",
    "version": 3
   },
   "file_extension": ".py",
   "mimetype": "text/x-python",
   "name": "python",
   "nbconvert_exporter": "python",
   "pygments_lexer": "ipython3",
   "version": "3.11.5"
  },
  "orig_nbformat": 4
 },
 "nbformat": 4,
 "nbformat_minor": 2
}
