{
 "cells": [
  {
   "cell_type": "code",
   "execution_count": 56,
   "metadata": {},
   "outputs": [
    {
     "name": "stdout",
     "output_type": "stream",
     "text": [
      "initial matrix:\n",
      " [[18 11 83 80 66 13]\n",
      " [35 15  9 28  6 86]\n",
      " [14 71 96 34 65 26]\n",
      " [62  6 58  1 49  6]\n",
      " [49 82 46 49 11 31]\n",
      " [12 52 66 56 78 49]]\n",
      "final matrix:\n",
      " [[49 78 83 80 11 13]\n",
      " [86 82 49  9  6 49]\n",
      " [62 71 96 34  6 14]\n",
      " [26 65 58  1 49  6]\n",
      " [35 15 46 28 11 31]\n",
      " [18 66 66 56 52 12]]\n",
      "656\n"
     ]
    }
   ],
   "source": [
    "import numpy as np\n",
    "\n",
    "\n",
    "\n",
    "def yeet(n: int):\n",
    "    matrix = np.random.randint(low=0, high=99, size=(2*n, 2*n))\n",
    "\n",
    "    print(\"initial matrix:\\n\", matrix)\n",
    "    def horizontal_flip(i: int) -> None:\n",
    "        matrix[i] = matrix[i][::-1]\n",
    "\n",
    "    def vertical_flip(j: int) -> None:\n",
    "        for i in range(n):\n",
    "            matrix[i][j], matrix[-(i+1)][j] = matrix[-(i+1)][j], matrix[i][j]\n",
    "\n",
    "    for i in range(n):\n",
    "        for j in range(n):\n",
    "            # top right quadrant\n",
    "            if matrix[i][j] < matrix[i][-(j+1)]:\n",
    "                for k in range(n):\n",
    "                    if k != j:\n",
    "                        vertical_flip(k)\n",
    "                horizontal_flip(i)\n",
    "                for k in range(n):\n",
    "                    if k != j:\n",
    "                        vertical_flip(k)\n",
    "            # bottom left quadrant\n",
    "            if matrix[i][j] < matrix[-(i+1)][j]:\n",
    "                for k in range(n):\n",
    "                    if k != i:\n",
    "                        horizontal_flip(k)\n",
    "                vertical_flip(j)\n",
    "                for k in range(n):\n",
    "                    if k != i:\n",
    "                        horizontal_flip(k)\n",
    "            # bottom right quadrant\n",
    "            if matrix[i][j] < matrix[-(i+1)][-(j+1)]:\n",
    "                vertical_flip(j)\n",
    "                horizontal_flip(-(i+1))\n",
    "                vertical_flip(j)\n",
    "                horizontal_flip(-(i+1))\n",
    "    print(\"final matrix:\\n\", matrix)\n",
    "    sum = 0\n",
    "    for i in range(n):\n",
    "        for j in range(n):\n",
    "            sum += matrix[i][j]\n",
    "    return sum\n",
    "            \n",
    "print(yeet(3))"
   ]
  },
  {
   "cell_type": "code",
   "execution_count": null,
   "metadata": {},
   "outputs": [],
   "source": []
  }
 ],
 "metadata": {
  "kernelspec": {
   "display_name": "Python 3",
   "language": "python",
   "name": "python3"
  },
  "language_info": {
   "codemirror_mode": {
    "name": "ipython",
    "version": 3
   },
   "file_extension": ".py",
   "mimetype": "text/x-python",
   "name": "python",
   "nbconvert_exporter": "python",
   "pygments_lexer": "ipython3",
   "version": "3.8.10"
  },
  "orig_nbformat": 4
 },
 "nbformat": 4,
 "nbformat_minor": 2
}
