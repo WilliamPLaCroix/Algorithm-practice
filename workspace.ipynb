{
 "cells": [
  {
   "cell_type": "code",
   "execution_count": 53,
   "metadata": {},
   "outputs": [],
   "source": [
    "import pandas as pd\n",
    "import numpy as np\n",
    "import random\n"
   ]
  },
  {
   "cell_type": "code",
   "execution_count": 116,
   "metadata": {},
   "outputs": [
    {
     "name": "stdout",
     "output_type": "stream",
     "text": [
      "[[ 63]\n",
      " [-72]\n",
      " [-94]\n",
      " [ 89]\n",
      " [-30]\n",
      " [-38]\n",
      " [-43]\n",
      " [-65]\n",
      " [ 88]\n",
      " [-74]]\n",
      "[  7  -8   8   3  -9 -10  -8  -4  -3   6]\n"
     ]
    }
   ],
   "source": [
    "random.seed(42)\n",
    "test_X = np.array([random.randint(-100, 100) for i in range(10)]).reshape(-1, 1)\n",
    "test_y = np.array([random.randint(-10, 10) for i in range(10)])\n",
    "print(test_X)\n",
    "print(test_y)\n"
   ]
  }
 ],
 "metadata": {
  "kernelspec": {
   "display_name": "Python 3",
   "language": "python",
   "name": "python3"
  },
  "language_info": {
   "codemirror_mode": {
    "name": "ipython",
    "version": 3
   },
   "file_extension": ".py",
   "mimetype": "text/x-python",
   "name": "python",
   "nbconvert_exporter": "python",
   "pygments_lexer": "ipython3",
   "version": "3.12.7"
  }
 },
 "nbformat": 4,
 "nbformat_minor": 2
}
