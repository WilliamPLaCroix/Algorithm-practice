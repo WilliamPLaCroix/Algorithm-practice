{
 "cells": [
  {
   "cell_type": "code",
   "execution_count": 924,
   "metadata": {},
   "outputs": [],
   "source": [
    "import pandas as pd\n",
    "import numpy as np\n",
    "import random\n",
    "from importlib import reload\n",
    "import linear_model\n",
    "from sklearn.linear_model import LinearRegression as LR"
   ]
  },
  {
   "cell_type": "code",
   "execution_count": 1033,
   "metadata": {},
   "outputs": [
    {
     "name": "stdout",
     "output_type": "stream",
     "text": [
      "[0.03971068] 1.925627578396743\n",
      "[0.03971068] 1.925627578396743\n",
      "[ 3.79202955  0.37691105  5.22161404 -0.61585596  0.89314989  2.2830237\n",
      " -2.04544045  4.18913636  1.52852078  0.37691105]\n",
      "[ 3.79202955  0.37691105  5.22161404 -0.61585596  0.89314989  2.2830237\n",
      " -2.04544045  4.18913636  1.52852078  0.37691105]\n",
      "####################################################################################################\n",
      "0.13054442946532097\n",
      "0.13054442946532097\n",
      "####################################################################################################\n"
     ]
    }
   ],
   "source": [
    "\"\"\"\n",
    "Prototyping LR model, TODO: implement weighted score calculation\n",
    "\"\"\"\n",
    "reload(linear_model)\n",
    "X = np.array([random.randint(-100, 100) for i in range(10)]).reshape(-1, 1)\n",
    "y = np.array([random.randint(-10, 10) for i in range(10)])\n",
    "my_reg = linear_model.LinearRegression()\n",
    "my_reg.fit(X, y)\n",
    "reg = LR()\n",
    "reg.fit(X, y)\n",
    "weights = np.random.random(10)\n",
    "print(my_reg.coef_, my_reg.intercept_)\n",
    "print(reg.coef_, reg.intercept_)\n",
    "print(my_reg.predict(X))\n",
    "print(reg.predict(X))\n",
    "print(\"#\"*100)\n",
    "print(my_reg.score(X, y))\n",
    "print(reg.score(X, y))\n",
    "print(\"#\"*100)\n",
    "# print(reg.score(X, y, weights))\n",
    "# print(weights)\n",
    "# #print(my_reg.score(X, y, weights))\n",
    "# print(reg.score(X, y, weights))\n"
   ]
  },
  {
   "cell_type": "code",
   "execution_count": 968,
   "metadata": {},
   "outputs": [
    {
     "name": "stdout",
     "output_type": "stream",
     "text": [
      "<attribute 'dtype' of 'numpy.generic' objects>\n"
     ]
    }
   ],
   "source": [
    "\n",
    "\n"
   ]
  }
 ],
 "metadata": {
  "kernelspec": {
   "display_name": "Python 3",
   "language": "python",
   "name": "python3"
  },
  "language_info": {
   "codemirror_mode": {
    "name": "ipython",
    "version": 3
   },
   "file_extension": ".py",
   "mimetype": "text/x-python",
   "name": "python",
   "nbconvert_exporter": "python",
   "pygments_lexer": "ipython3",
   "version": "3.12.7"
  }
 },
 "nbformat": 4,
 "nbformat_minor": 2
}
