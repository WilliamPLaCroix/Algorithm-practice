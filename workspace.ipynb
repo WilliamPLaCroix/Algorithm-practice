{
 "cells": [
  {
   "cell_type": "code",
   "execution_count": 924,
   "metadata": {},
   "outputs": [],
   "source": [
    "import pandas as pd\n",
    "import numpy as np\n",
    "import random\n",
    "from importlib import reload\n",
    "import linear_model\n",
    "from sklearn.linear_model import LinearRegression as LR"
   ]
  },
  {
   "cell_type": "code",
   "execution_count": 1102,
   "metadata": {},
   "outputs": [
    {
     "name": "stdout",
     "output_type": "stream",
     "text": [
      "[0.01275603] -0.1558931600291607\n",
      "[0.01275603] -0.1558931600291606\n",
      "[-0.38550165  0.50742026 -1.26566753  1.09419751  0.60946847  0.57120039\n",
      "  0.72427272 -0.44928179  0.16300752  0.43088409]\n",
      "[-0.38550165  0.50742026 -1.26566753  1.09419751  0.60946847  0.57120039\n",
      "  0.72427272 -0.44928179  0.16300752  0.43088409]\n",
      "####################################################################################################\n",
      "0.013897524046876608\n",
      "0.01389752404687683\n",
      "####################################################################################################\n",
      "-0.04103054045277177\n",
      "[0.44349089 0.32511763 0.08388158 0.74544072 0.8558025  0.55165964\n",
      " 0.96370826 0.20545809 0.59316105 0.37620949]\n"
     ]
    },
    {
     "ename": "NotImplementedError",
     "evalue": "weights are not supported. Function will run without factoring in sample weights.",
     "output_type": "error",
     "traceback": [
      "\u001b[1;31m---------------------------------------------------------------------------\u001b[0m",
      "\u001b[1;31mNotImplementedError\u001b[0m                       Traceback (most recent call last)",
      "Cell \u001b[1;32mIn[1102], line 22\u001b[0m\n\u001b[0;32m     20\u001b[0m \u001b[38;5;28mprint\u001b[39m(reg\u001b[38;5;241m.\u001b[39mscore(X, y, weights))\n\u001b[0;32m     21\u001b[0m \u001b[38;5;28mprint\u001b[39m(weights)\n\u001b[1;32m---> 22\u001b[0m \u001b[38;5;28mprint\u001b[39m(\u001b[43mmy_reg\u001b[49m\u001b[38;5;241;43m.\u001b[39;49m\u001b[43mscore\u001b[49m\u001b[43m(\u001b[49m\u001b[43mX\u001b[49m\u001b[43m,\u001b[49m\u001b[43m \u001b[49m\u001b[43my\u001b[49m\u001b[43m,\u001b[49m\u001b[43m \u001b[49m\u001b[43mweights\u001b[49m\u001b[43m)\u001b[49m)\n\u001b[0;32m     23\u001b[0m \u001b[38;5;28mprint\u001b[39m(reg\u001b[38;5;241m.\u001b[39mscore(X, y, weights))\n",
      "File \u001b[1;32mc:\\Users\\William\\Documents\\GitHub Repos\\mykit-learn\\linear_model.py:46\u001b[0m, in \u001b[0;36mLinearRegression.score\u001b[1;34m(self, X, y, weights)\u001b[0m\n\u001b[0;32m     44\u001b[0m     weights \u001b[38;5;241m=\u001b[39m np\u001b[38;5;241m.\u001b[39mones((\u001b[38;5;28mlen\u001b[39m(y),\u001b[38;5;241m1\u001b[39m))\n\u001b[0;32m     45\u001b[0m \u001b[38;5;28;01melse\u001b[39;00m:\n\u001b[1;32m---> 46\u001b[0m     \u001b[38;5;28;01mraise\u001b[39;00m \u001b[38;5;167;01mNotImplementedError\u001b[39;00m(\u001b[38;5;124m\"\u001b[39m\u001b[38;5;124mweights are not supported. Function will run without factoring in sample weights.\u001b[39m\u001b[38;5;124m\"\u001b[39m)\n\u001b[0;32m     47\u001b[0m \u001b[38;5;66;03m#print(weights)\u001b[39;00m\n\u001b[0;32m     48\u001b[0m X \u001b[38;5;241m=\u001b[39m X\u001b[38;5;241m.\u001b[39mreshape(\u001b[38;5;241m-\u001b[39m\u001b[38;5;241m1\u001b[39m)\n",
      "\u001b[1;31mNotImplementedError\u001b[0m: weights are not supported. Function will run without factoring in sample weights."
     ]
    }
   ],
   "source": [
    "\"\"\"\n",
    "Prototyping LR model, TODO: implement weighted score calculation\n",
    "\"\"\"\n",
    "reload(linear_model)\n",
    "X = np.array([random.randint(-100, 100) for i in range(10)]).reshape(-1, 1)\n",
    "y = np.array([random.randint(-10, 10) for i in range(10)])\n",
    "my_reg = linear_model.LinearRegression()\n",
    "my_reg.fit(X, y)\n",
    "reg = LR()\n",
    "reg.fit(X, y)\n",
    "weights = np.random.random(10)\n",
    "print(my_reg.coef_, my_reg.intercept_)\n",
    "print(reg.coef_, reg.intercept_)\n",
    "print(my_reg.predict(X))\n",
    "print(reg.predict(X))\n",
    "print(\"#\"*100)\n",
    "print(my_reg.score(X, y))\n",
    "print(reg.score(X, y))\n",
    "print(\"#\"*100)\n",
    "print(reg.score(X, y, weights))\n",
    "print(weights)\n",
    "print(my_reg.score(X, y, weights))\n",
    "print(reg.score(X, y, weights))\n"
   ]
  },
  {
   "cell_type": "code",
   "execution_count": 1090,
   "metadata": {},
   "outputs": [
    {
     "name": "stdout",
     "output_type": "stream",
     "text": [
      "0.2986402691606024\n"
     ]
    },
    {
     "name": "stderr",
     "output_type": "stream",
     "text": [
      "c:\\Users\\William\\Documents\\GitHub Repos\\mykit-learn\\linear_model.py:46: UserWarning: NotImplementedWarning: weights are not supported. Function will run without factoring in sample weights.\n",
      "  # print(\"preds\", preds.shape)\n"
     ]
    }
   ],
   "source": [
    "print(my_reg.score(X, y, weights))"
   ]
  }
 ],
 "metadata": {
  "kernelspec": {
   "display_name": "Python 3",
   "language": "python",
   "name": "python3"
  },
  "language_info": {
   "codemirror_mode": {
    "name": "ipython",
    "version": 3
   },
   "file_extension": ".py",
   "mimetype": "text/x-python",
   "name": "python",
   "nbconvert_exporter": "python",
   "pygments_lexer": "ipython3",
   "version": "3.12.7"
  }
 },
 "nbformat": 4,
 "nbformat_minor": 2
}
