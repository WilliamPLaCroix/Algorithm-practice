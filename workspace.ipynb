{
 "cells": [
  {
   "cell_type": "code",
   "execution_count": 1,
   "metadata": {},
   "outputs": [],
   "source": [
    "import pandas as pd\n",
    "import numpy as np\n",
    "import random\n",
    "from importlib import reload\n",
    "import linear_model"
   ]
  },
  {
   "cell_type": "code",
   "execution_count": 2,
   "metadata": {},
   "outputs": [
    {
     "name": "stdout",
     "output_type": "stream",
     "text": [
      "[[ 63]\n",
      " [-72]\n",
      " [-94]\n",
      " [ 89]\n",
      " [-30]\n",
      " [-38]\n",
      " [-43]\n",
      " [-65]\n",
      " [ 88]\n",
      " [-74]]\n",
      "[  7  -8   8   3  -9 -10  -8  -4  -3   6]\n"
     ]
    }
   ],
   "source": [
    "random.seed(42)\n",
    "test_X = np.array([random.randint(-100, 100) for i in range(10)]).reshape(-1, 1)\n",
    "test_y = np.array([random.randint(-10, 10) for i in range(10)])\n",
    "print(test_X)\n",
    "print(test_y)\n"
   ]
  },
  {
   "cell_type": "code",
   "execution_count": 3,
   "metadata": {},
   "outputs": [],
   "source": [
    "from sklearn.linear_model import LinearRegression as LR"
   ]
  },
  {
   "cell_type": "code",
   "execution_count": 914,
   "metadata": {},
   "outputs": [
    {
     "name": "stdout",
     "output_type": "stream",
     "text": [
      "[0.00729872] -3.865696020533867\n",
      "[0.00729872] -3.865696020533867\n",
      "[-3.56644854 -4.23793069 -3.68322804 -4.07006015 -4.09925503 -4.44229482\n",
      " -3.75621524 -3.34748697 -4.44229482 -3.35478569]\n",
      "[-3.56644854 -4.23793069 -3.68322804 -4.07006015 -4.09925503 -4.44229482\n",
      " -3.75621524 -3.34748697 -4.44229482 -3.35478569]\n",
      "####################################################################################################\n",
      "0.007157388376295315\n",
      "0.007157388376295315\n",
      "####################################################################################################\n"
     ]
    }
   ],
   "source": [
    "\n",
    "reload(linear_model)\n",
    "X = np.array([random.randint(-100, 100) for i in range(10)]).reshape(-1, 1)\n",
    "y = np.array([random.randint(-10, 10) for i in range(10)])\n",
    "my_reg = linear_model.LinearRegression()\n",
    "my_reg.fit(X, y)\n",
    "reg = LR()\n",
    "reg.fit(X, y)\n",
    "weights = np.random.random(10)\n",
    "print(my_reg.coef_, my_reg.intercept_)\n",
    "print(reg.coef_, reg.intercept_)\n",
    "print(my_reg.predict(X))\n",
    "print(reg.predict(X))\n",
    "print(\"#\"*100)\n",
    "print(my_reg.score(X, y))\n",
    "print(reg.score(X, y))\n",
    "print(\"#\"*100)\n",
    "# print(reg.score(X, y, weights))\n",
    "# print(weights)\n",
    "# #print(my_reg.score(X, y, weights))\n",
    "# print(reg.score(X, y, weights))\n",
    "\n"
   ]
  },
  {
   "cell_type": "code",
   "execution_count": 5,
   "metadata": {},
   "outputs": [],
   "source": [
    "reload(linear_model)\n",
    "random.seed(42)\n",
    "test_X = np.array([random.randint(-100, 100) for i in range(10)]).reshape(-1, 1)\n",
    "\n"
   ]
  }
 ],
 "metadata": {
  "kernelspec": {
   "display_name": "Python 3",
   "language": "python",
   "name": "python3"
  },
  "language_info": {
   "codemirror_mode": {
    "name": "ipython",
    "version": 3
   },
   "file_extension": ".py",
   "mimetype": "text/x-python",
   "name": "python",
   "nbconvert_exporter": "python",
   "pygments_lexer": "ipython3",
   "version": "3.12.7"
  }
 },
 "nbformat": 4,
 "nbformat_minor": 2
}
