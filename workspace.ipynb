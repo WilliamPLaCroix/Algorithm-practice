{
 "cells": [
  {
   "cell_type": "code",
   "execution_count": 924,
   "metadata": {},
   "outputs": [],
   "source": [
    "import pandas as pd\n",
    "import numpy as np\n",
    "import random\n",
    "from importlib import reload\n",
    "import linear_model\n",
    "from sklearn.linear_model import LinearRegression as LR"
   ]
  },
  {
   "cell_type": "code",
   "execution_count": 1062,
   "metadata": {},
   "outputs": [
    {
     "name": "stdout",
     "output_type": "stream",
     "text": [
      "[0.02411147] 1.0468295210813456\n",
      "[0.02411147] 1.0468295210813459\n",
      "[-1.34020642  2.01128849 -0.39985893  1.14327542  2.66229829  1.55317048\n",
      "  1.57728195  2.63818682 -0.13463271  3.28919662]\n",
      "[-1.34020642  2.01128849 -0.39985893  1.14327542  2.66229829  1.55317048\n",
      "  1.57728195  2.63818682 -0.13463271  3.28919662]\n",
      "####################################################################################################\n",
      "0.04466569260790887\n",
      "0.04466569260790887\n",
      "####################################################################################################\n",
      "LinearRegression(coef=[0.02411147], intercept=1.0468295210813456, score=0.04466569260790887)\n",
      "LinearRegression()\n"
     ]
    }
   ],
   "source": [
    "\"\"\"\n",
    "Prototyping LR model, TODO: implement weighted score calculation\n",
    "\"\"\"\n",
    "reload(linear_model)\n",
    "X = np.array([random.randint(-100, 100) for i in range(10)]).reshape(-1, 1)\n",
    "y = np.array([random.randint(-10, 10) for i in range(10)])\n",
    "my_reg = linear_model.LinearRegression()\n",
    "my_reg.fit(X, y)\n",
    "reg = LR()\n",
    "reg.fit(X, y)\n",
    "weights = np.random.random(10)\n",
    "print(my_reg.coef_, my_reg.intercept_)\n",
    "print(reg.coef_, reg.intercept_)\n",
    "print(my_reg.predict(X))\n",
    "print(reg.predict(X))\n",
    "print(\"#\"*100)\n",
    "print(my_reg.score(X, y))\n",
    "print(reg.score(X, y))\n",
    "print(\"#\"*100)\n",
    "# print(reg.score(X, y, weights))\n",
    "# print(weights)\n",
    "# #print(my_reg.score(X, y, weights))\n",
    "# print(reg.score(X, y, weights))\n"
   ]
  },
  {
   "cell_type": "code",
   "execution_count": 1085,
   "metadata": {},
   "outputs": [
    {
     "name": "stdout",
     "output_type": "stream",
     "text": [
      "[ 0.04819988  0.06830272  0.08705473  0.08835751  0.035694    0.04825056\n",
      "  0.03803979  0.15029857  0.06821938 -0.05556946] 6.077435942587893\n",
      "[  4.  -5.   9.   2.   1.   9. -10.  -6.   5.   5.]\n",
      "####################################################################################################\n",
      "1.0\n",
      "####################################################################################################\n"
     ]
    }
   ],
   "source": []
  }
 ],
 "metadata": {
  "kernelspec": {
   "display_name": "Python 3",
   "language": "python",
   "name": "python3"
  },
  "language_info": {
   "codemirror_mode": {
    "name": "ipython",
    "version": 3
   },
   "file_extension": ".py",
   "mimetype": "text/x-python",
   "name": "python",
   "nbconvert_exporter": "python",
   "pygments_lexer": "ipython3",
   "version": "3.12.7"
  }
 },
 "nbformat": 4,
 "nbformat_minor": 2
}
