{
 "cells": [
  {
   "cell_type": "code",
   "execution_count": 1,
   "metadata": {},
   "outputs": [],
   "source": [
    "import unittest\n",
    "\n",
    "\n",
    "def elf_calories(filename: str =\"./elf_lists.txt\") -> None:\n",
    "    '''takes list of elf bag contents and returns elf carrying most items.'''\n",
    "    with open(filename, 'r', encoding='utf-8') as elf_data:\n",
    "        data = elf_data.readlines()\n",
    "    elf_lists: list = []\n",
    "    individual_list = []\n",
    "    print(data)\n",
    "    for line in data:\n",
    "        if line == \"\\n\":\n",
    "            elf_lists.append(sum(individual_list))\n",
    "            individual_list = []\n",
    "        else:\n",
    "            individual_list.append(int(line.strip()))\n",
    "    \n",
    "    print(elf_lists)\n",
    "    print(max(elf_lists))\n",
    "\n",
    "\n"
   ]
  }
 ],
 "metadata": {
  "kernelspec": {
   "display_name": "Python 3",
   "language": "python",
   "name": "python3"
  },
  "language_info": {
   "codemirror_mode": {
    "name": "ipython",
    "version": 3
   },
   "file_extension": ".py",
   "mimetype": "text/x-python",
   "name": "python",
   "nbconvert_exporter": "python",
   "pygments_lexer": "ipython3",
   "version": "3.8.10"
  },
  "orig_nbformat": 4
 },
 "nbformat": 4,
 "nbformat_minor": 2
}
